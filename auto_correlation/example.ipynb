{
 "cells": [
  {
   "cell_type": "code",
   "execution_count": null,
   "metadata": {
    "collapsed": true
   },
   "outputs": [],
   "source": [
    "import sys\n",
    "from abc import ABC\n",
    "\n",
    "sys.path.insert(0, '../')\n",
    "\n",
    "import os\n",
    "import pandas as pd\n",
    "import argparse\n",
    "from matplotlib import pyplot as plt\n",
    "\n",
    "from tensorflow.keras.losses import Huber\n",
    "from tensorflow.keras.layers import Input\n",
    "from tensorflow.keras.callbacks import EarlyStopping, ReduceLROnPlateau, TensorBoard\n",
    "\n",
    "import keras_tuner as kt\n",
    "from models import StrideDilatedNet\n",
    "from utils import AreaEnergy, TSF_Data, HouseholdDataLoader, SpainDataLoader, create_new_directory\n",
    "from auto_stride_searching import *"
   ]
  },
  {
   "cell_type": "code",
   "execution_count": null,
   "outputs": [],
   "source": [
    "os.environ[\"CUDA_DEVICE_ORDER\"] = \"PCI_BUS_ID\"\n",
    "args = arg_parse(argparse.ArgumentParser())\n",
    "# setup CUDA device\n",
    "os.environ[\"CUDA_VISIBLE_DEVICES\"] = str(args.device)"
   ],
   "metadata": {
    "collapsed": false,
    "pycharm": {
     "name": "#%%\n"
    }
   }
  },
  {
   "cell_type": "markdown",
   "source": [
    "# LIST all your Settings model, then explain them"
   ],
   "metadata": {
    "collapsed": false,
    "pycharm": {
     "name": "#%% md\n"
    }
   }
  },
  {
   "cell_type": "code",
   "execution_count": null,
   "outputs": [],
   "source": [
    "# Example:\n",
    "# TASK: Time series forecasting\n",
    "dataset_name = args.dataset_name  # Dataset Name: household; cnu; spain\n",
    "dataset_path = args.dataset_path  # Dataset path\n",
    "history_len = args.history_len  # History Length\n",
    "num_features = args.num_features  # Number of features\n",
    "max_trials = args.max_trials  # Max trials for automl\n",
    "output_len = args.output_len  # Prediction Length\n",
    "write_log_file = args.write_log_file  # Export to log file\n",
    "\n",
    "data_seq = get_dataset(dataset_path, dataset_name)\n",
    "\n",
    "# This is your MODEL package (follow OOP structure)\n",
    "auto_training(data_seq, dataset_name, history_len, output_len, num_features, max_trials, write_log_file)"
   ],
   "metadata": {
    "collapsed": false,
    "pycharm": {
     "name": "#%%\n"
    }
   }
  }
 ],
 "metadata": {
  "kernelspec": {
   "display_name": "Python 3",
   "language": "python",
   "name": "python3"
  },
  "language_info": {
   "codemirror_mode": {
    "name": "ipython",
    "version": 2
   },
   "file_extension": ".py",
   "mimetype": "text/x-python",
   "name": "python",
   "nbconvert_exporter": "python",
   "pygments_lexer": "ipython2",
   "version": "2.7.6"
  }
 },
 "nbformat": 4,
 "nbformat_minor": 0
}